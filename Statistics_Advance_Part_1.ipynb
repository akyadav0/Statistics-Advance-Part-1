{
  "nbformat": 4,
  "nbformat_minor": 0,
  "metadata": {
    "colab": {
      "provenance": []
    },
    "kernelspec": {
      "name": "python3",
      "display_name": "Python 3"
    },
    "language_info": {
      "name": "python"
    }
  },
  "cells": [
    {
      "cell_type": "markdown",
      "source": [
        "# Statistics Advance Part 1"
      ],
      "metadata": {
        "id": "rkLbmk9gsOw0"
      }
    },
    {
      "cell_type": "markdown",
      "source": [
        "1. What is a random variable in probability theory?\n",
        "\n",
        "- A random variable is a numerical outcome of a random phenomenon.\n",
        "\n",
        "- It assigns a number to each possible outcome in a sample space.\n",
        "\n"
      ],
      "metadata": {
        "id": "ZfK87xaasjYT"
      }
    },
    {
      "cell_type": "markdown",
      "source": [
        "2. What are the types of random variables?\n",
        "- Discrete random variable: Takes countable values (e.g., 0, 1, 2,...).\n",
        "\n",
        "- Continuous random variable: Takes any value in a range (e.g., weight, height).\n",
        "\n"
      ],
      "metadata": {
        "id": "y8lJ7Tlns1wo"
      }
    },
    {
      "cell_type": "markdown",
      "source": [
        "3. What is the difference between discrete and continuous distributions?\n",
        "- Discrete distribution deals with countable outcomes (e.g., number of heads in coin toss).\n",
        "\n",
        "- Continuous distribution deals with measurable outcomes (e.g., temperature, height).\n",
        "\n"
      ],
      "metadata": {
        "id": "LN9ZIxZIteYg"
      }
    },
    {
      "cell_type": "markdown",
      "source": [
        "4. What are probability distribution functions (PDF)?\n",
        "- PDF describes the likelihood of a continuous random variable taking on a specific value.\n",
        "\n",
        "- For discrete variables, it's called a probability mass function (PMF)."
      ],
      "metadata": {
        "id": "6tS1UoUMtvS2"
      }
    },
    {
      "cell_type": "markdown",
      "source": [
        "5. How do cumulative distribution functions (CDF) differ from probability distribution functions (PDF)?\n",
        "- CDF gives the probability that a variable is less than or equal to a value.\n",
        "\n",
        "- PDF shows the probability density at a specific value."
      ],
      "metadata": {
        "id": "lYwK3EsbuA56"
      }
    },
    {
      "cell_type": "markdown",
      "source": [
        "6. What is a discrete uniform distribution?\n",
        "\n",
        "Each possible outcome has an equal probability.\n",
        "\n",
        "Example: Rolling a fair die (each number from 1–6 has 1/6 chance).\n",
        "\n"
      ],
      "metadata": {
        "id": "AhX1Vd7NuPji"
      }
    },
    {
      "cell_type": "markdown",
      "source": [
        "7. What are the key properties of a Bernoulli distribution?\n",
        "\n",
        "Two outcomes: Success (1) or Failure (0).\n",
        "\n",
        "Has one parameter p, the probability of success.\n",
        "\n"
      ],
      "metadata": {
        "id": "LjMgwnFYuaQV"
      }
    },
    {
      "cell_type": "markdown",
      "source": [
        "8. What is the binomial distribution, and how is it used in probability?\n",
        "\n",
        "Models the number of successes in n independent trials.\n",
        "\n",
        "Each trial has two outcomes: success/failure with constant probability p.\n",
        "\n"
      ],
      "metadata": {
        "id": "UzFuLE_kuweI"
      }
    },
    {
      "cell_type": "markdown",
      "source": [
        "9. What is the Poisson distribution and where is it applied?\n",
        "\n",
        "Models the number of events in a fixed interval of time/space.\n",
        "\n",
        "Used when events happen randomly and independently (e.g., calls at a call center).\n",
        "\n"
      ],
      "metadata": {
        "id": "ebXGD19Ruzgu"
      }
    },
    {
      "cell_type": "markdown",
      "source": [
        "10. What is a continuous uniform distribution?\n",
        "\n",
        "All outcomes in a range have equal likelihood.\n",
        "\n",
        "Example: Picking a random number between 0 and 1."
      ],
      "metadata": {
        "id": "0BPXC7MHu7uv"
      }
    },
    {
      "cell_type": "markdown",
      "source": [
        "11. What are the characteristics of a normal distribution?\n",
        "\n",
        "- Bell-shaped curve, symmetric about the mean.\n",
        "\n",
        "- Mean = Median = Mode.\n",
        "\n",
        "- Completely defined by its mean (μ) and standard deviation (σ)."
      ],
      "metadata": {
        "id": "Gl_p8hKEvJUz"
      }
    },
    {
      "cell_type": "markdown",
      "source": [
        "12. What is the standard normal distribution, and why is it important?\n",
        "\n",
        "Normal distribution with mean = 0 and standard deviation = 1.\n",
        "\n",
        "Used to compute Z-scores and for standardizing data.\n",
        "\n"
      ],
      "metadata": {
        "id": "T79cpIZLvYTr"
      }
    },
    {
      "cell_type": "markdown",
      "source": [
        "13. What is the Central Limit Theorem (CLT), and why is it critical in statistics?\n",
        "\n",
        "CLT states that the sampling distribution of the sample mean becomes normal as the sample size increases (n > 30).\n",
        "\n",
        "Helps apply normal-based methods even when the population is not normal.\n",
        "\n"
      ],
      "metadata": {
        "id": "VNE1aujYviSw"
      }
    },
    {
      "cell_type": "markdown",
      "source": [
        "14. How does the Central Limit Theorem relate to the normal distribution?\n",
        "\n",
        "Ensures that the mean of many samples will be approximately normally distributed, even if the data is not."
      ],
      "metadata": {
        "id": "ElC3xQ3hvseP"
      }
    },
    {
      "cell_type": "markdown",
      "source": [
        "15. What is the application of Z statistics in hypothesis testing?\n",
        "\n",
        "Used to test hypotheses about population means when population variance is known.\n",
        "\n",
        "Helps determine how many standard deviations a value is from the mean.\n",
        "\n"
      ],
      "metadata": {
        "id": "rKUr1w0Ev3pc"
      }
    },
    {
      "cell_type": "markdown",
      "source": [
        "16. How do you calculate a Z-score, and what does it represent?\n",
        "\n",
        "Formula: Z = (X - μ) / σ\n",
        "\n",
        "It represents how far a value (X) is from the mean in standard deviations."
      ],
      "metadata": {
        "id": "FNdlZBFpv9Lp"
      }
    },
    {
      "cell_type": "markdown",
      "source": [
        "17. What are point estimates and interval estimates in statistics?\n",
        "\n",
        "Point estimate: Single value estimate (e.g., sample mean).\n",
        "\n",
        "Interval estimate: Range of values likely to contain the parameter (e.g., confidence interval).\n",
        "\n"
      ],
      "metadata": {
        "id": "NFxyObGDwNhw"
      }
    },
    {
      "cell_type": "markdown",
      "source": [
        "18. What is the significance of confidence intervals in statistical analysis?\n",
        "\n",
        "Provides a range of likely values for the population parameter.\n",
        "\n",
        "Gives a measure of uncertainty around the estimate.\n",
        "\n"
      ],
      "metadata": {
        "id": "_hCAzCgLwRDB"
      }
    },
    {
      "cell_type": "markdown",
      "source": [
        "19. What is the relationship between a Z-score and a confidence interval?\n",
        "\n",
        "Z-scores define the range of values in a confidence interval for normally distributed data.\n",
        "\n",
        "E.g., for 95% confidence, Z ≈ 1.96.\n",
        "\n"
      ],
      "metadata": {
        "id": "FFRrjGIbwb7L"
      }
    },
    {
      "cell_type": "markdown",
      "source": [
        "20. How are Z-scores used to compare different distributions?\n",
        "\n",
        "Converts different distributions to a common standard (mean = 0, SD = 1).\n",
        "\n",
        "Allows comparison across different scales."
      ],
      "metadata": {
        "id": "7ZL1nY2NwqsK"
      }
    },
    {
      "cell_type": "markdown",
      "source": [
        "21. What are the assumptions for applying the Central Limit Theorem?\n",
        "Samples are independent.\n",
        "\n",
        "- Sample size is sufficiently large (usually n ≥ 30).\n",
        "\n",
        "- Population has a finite variance.\n",
        "\n"
      ],
      "metadata": {
        "id": "i9zwl2tSwyhg"
      }
    },
    {
      "cell_type": "markdown",
      "source": [
        "22. What is the concept of expected value in a probability distribution?\n",
        "\n",
        "It is the long-run average outcome of a random variable.\n",
        "\n",
        "Calculated as the sum of (value × probability) for all outcomes."
      ],
      "metadata": {
        "id": "OceC3a-Sw5fC"
      }
    },
    {
      "cell_type": "markdown",
      "source": [
        "23. How does a probability distribution relate to the expected outcome of a random variable?\n",
        "\n",
        "The expected value is computed using the probability distribution.\n",
        "\n",
        "It reflects the average value you can expect over many trials."
      ],
      "metadata": {
        "id": "3v-lJOWbxH8m"
      }
    }
  ]
}